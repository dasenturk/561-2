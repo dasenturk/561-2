{
 "cells": [
  {
   "cell_type": "code",
   "execution_count": 1,
   "id": "24e87735",
   "metadata": {},
   "outputs": [],
   "source": [
    "%run -i 'main.py'"
   ]
  },
  {
   "cell_type": "code",
   "execution_count": 5,
   "id": "ab74fea2",
   "metadata": {},
   "outputs": [],
   "source": [
    "words = [\"dün\", \"arkadaş\", \"-Im\", \"-yA\", \"bir\", \"hediye\", \"al\", \"-dI\", \"-n\"]"
   ]
  },
  {
   "cell_type": "code",
   "execution_count": 10,
   "id": "96cb354c",
   "metadata": {},
   "outputs": [],
   "source": [
    "text = \"ben dün arkadaş -Im -yA bir hediye al -dI -n\""
   ]
  },
  {
   "cell_type": "code",
   "execution_count": 6,
   "id": "36e38355",
   "metadata": {},
   "outputs": [],
   "source": [
    "table = cky_parse(grammar,words)\n",
    "parses,trees = make_tree(table)"
   ]
  },
  {
   "cell_type": "code",
   "execution_count": 11,
   "id": "fc2d867d",
   "metadata": {},
   "outputs": [],
   "source": [
    "table = cky_parse(grammar,[], text)\n",
    "parses,trees = make_tree(table)"
   ]
  },
  {
   "cell_type": "code",
   "execution_count": 12,
   "id": "012c8891",
   "metadata": {},
   "outputs": [],
   "source": [
    "correct_parse_indices = []\n",
    "if len(trees)!= 0:\n",
    "    for i in range(len(trees)):\n",
    "        if(check_person_agreement(trees[i]) and check_number_agreement(trees[i]) and check_time_agreement(trees[i])):\n",
    "            correct_parse_indices.append(i)\n",
    "\n",
    "if len(parses) != 0:\n",
    "    for i in correct_parse_indices:\n",
    "        print(parses[i])"
   ]
  },
  {
   "cell_type": "code",
   "execution_count": 13,
   "id": "4a1eb5a1",
   "metadata": {},
   "outputs": [
    {
     "name": "stdout",
     "output_type": "stream",
     "text": [
      "0\n",
      "0\n"
     ]
    }
   ],
   "source": [
    "print(len(parses))\n",
    "print(len(correct_parse_indices))"
   ]
  },
  {
   "cell_type": "code",
   "execution_count": null,
   "id": "ad6a2fa5",
   "metadata": {},
   "outputs": [],
   "source": []
  }
 ],
 "metadata": {
  "kernelspec": {
   "display_name": "Python 3 (ipykernel)",
   "language": "python",
   "name": "python3"
  },
  "language_info": {
   "codemirror_mode": {
    "name": "ipython",
    "version": 3
   },
   "file_extension": ".py",
   "mimetype": "text/x-python",
   "name": "python",
   "nbconvert_exporter": "python",
   "pygments_lexer": "ipython3",
   "version": "3.11.3"
  }
 },
 "nbformat": 4,
 "nbformat_minor": 5
}
